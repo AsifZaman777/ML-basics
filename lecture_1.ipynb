{
  "nbformat": 4,
  "nbformat_minor": 0,
  "metadata": {
    "colab": {
      "provenance": [],
      "gpuType": "T4",
      "authorship_tag": "ABX9TyNVm1ZCBoyflTjbxNwRzuIm",
      "include_colab_link": true
    },
    "kernelspec": {
      "name": "python3",
      "display_name": "Python 3"
    },
    "language_info": {
      "name": "python"
    },
    "accelerator": "GPU"
  },
  "cells": [
    {
      "cell_type": "markdown",
      "metadata": {
        "id": "view-in-github",
        "colab_type": "text"
      },
      "source": [
        "<a href=\"https://colab.research.google.com/github/AsifZaman777/ML-basics/blob/main/lecture_1.ipynb\" target=\"_parent\"><img src=\"https://colab.research.google.com/assets/colab-badge.svg\" alt=\"Open In Colab\"/></a>"
      ]
    },
    {
      "cell_type": "markdown",
      "source": [
        "Always check the tensorflow versions"
      ],
      "metadata": {
        "id": "nJ4-3wGldVtT"
      }
    },
    {
      "cell_type": "code",
      "execution_count": null,
      "metadata": {
        "colab": {
          "base_uri": "https://localhost:8080/"
        },
        "id": "yMLcPvlsctuZ",
        "outputId": "88a7084b-b7dd-4b37-a96c-539e962790c0"
      },
      "outputs": [
        {
          "output_type": "stream",
          "name": "stdout",
          "text": [
            "2.17.1\n"
          ]
        }
      ],
      "source": [
        "import tensorflow as tf\n",
        "\n",
        "print(tf.__version__)\n"
      ]
    },
    {
      "cell_type": "markdown",
      "source": [
        "`y=2x-1` pattern finding using the keras API"
      ],
      "metadata": {
        "id": "aHpy3bkciVNd"
      }
    },
    {
      "cell_type": "code",
      "source": [
        "import tensorflow as tf\n",
        "import numpy as np\n",
        "from tensorflow.keras import Sequential\n",
        "from tensorflow.keras.layers import Dense\n",
        "\n",
        "# Define the model\n",
        "model = Sequential([Dense(units=1, input_shape=[1])])\n",
        "model.compile(optimizer='sgd', loss='mean_squared_error')\n",
        "\n",
        "# Training data\n",
        "xs = np.array([-1.0, 0.0, 1.0, 2.0, 3.0, 4.0], dtype=float)\n",
        "ys = np.array([-3.0, -1.0, 1.0, 3.0, 5.0, 7.0], dtype=float)\n",
        "\n",
        "# Train the model\n",
        "model.fit(xs, ys, epochs=800)\n",
        "\n",
        "# Predict the output for x=10.0\n",
        "print(model.predict(np.array([10.0])))\n"
      ],
      "metadata": {
        "id": "p6efYku_ikvm"
      },
      "execution_count": null,
      "outputs": []
    },
    {
      "cell_type": "markdown",
      "source": [
        "As a beginner it's quite tough to understand the code. As a beginner we need to understand every single terms very precicely. From the code we are going to learn a lot which are gonna help us to know about more further and implement models in future very easily\n",
        "\n",
        "**Learning points**\n",
        "- How tensorflow made it easy to develop models:\n",
        " - Neural networks basics (Layers, neurons,...)\n",
        " - Sequential\n",
        " - Optimizer\n",
        " - Loss function\n",
        " - Fit\n",
        " - Epochs\n",
        " - Model prediction\n",
        "\n",
        " **What the code does basically?**\n",
        "> The code can predict the probable answers throgh the given input and the output senarios basicaally. Using the input and output data the code can find the business rules (equation) for the scenarios which is `y=2x-1` and then the iterative training (epochs) helps the model to find the more precice results.\n",
        "\n",
        "\n",
        "\n"
      ],
      "metadata": {
        "id": "hQ2F_9mah-iK"
      }
    },
    {
      "cell_type": "markdown",
      "source": [
        "**Lets breakdown the code**\n"
      ],
      "metadata": {
        "id": "gW1KV3sgi18W"
      }
    }
  ]
}